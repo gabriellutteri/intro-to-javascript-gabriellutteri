{
 "cells": [
  {
   "cell_type": "code",
   "execution_count": 1,
   "metadata": {},
   "outputs": [
    {
     "name": "stdout",
     "output_type": "stream",
     "text": [
      "Hello, World!\n"
     ]
    }
   ],
   "source": [
    "console.log('Hello, World!');"
   ]
  },
  {
   "cell_type": "markdown",
   "metadata": {},
   "source": [
    "# Esempi di come si comportano i tipi primitivi"
   ]
  },
  {
   "cell_type": "code",
   "execution_count": null,
   "metadata": {},
   "outputs": [],
   "source": [
    "{\n",
    "let age = 30;\n",
    "let age1 = age;\n",
    "age = 31;\n",
    "console.log(age1);\n",
    "console.log(age);\n",
    "\n",
    "let immutable = \"hello\";\n",
    "let copy = \n",
    "}"
   ]
  },
  {
   "cell_type": "code",
   "execution_count": null,
   "metadata": {},
   "outputs": [],
   "source": [
    "typeof 1.23;\n",
    "typeof \"Hello\";\n",
    "typeof true;\n",
    "typeof [];\n",
    "typeof {};"
   ]
  },
  {
   "cell_type": "markdown",
   "metadata": {},
   "source": [
    "Dichiarazione di Funzione"
   ]
  },
  {
   "cell_type": "code",
   "execution_count": null,
   "metadata": {},
   "outputs": [],
   "source": [
    "function nomeFunzione(parametro1, parametro2) {\n",
    "    //corpo della funzione\n",
    "    return valoreDiRitorno;\n",
    " }\n",
    " "
   ]
  },
  {
   "cell_type": "markdown",
   "metadata": {},
   "source": [
    "Esempio"
   ]
  },
  {
   "cell_type": "code",
   "execution_count": null,
   "metadata": {},
   "outputs": [],
   "source": [
    "function add (a:number, b:number): number {\n",
    "    return a + b;\n",
    " }\n",
    " add (1, 2); //Output: 3"
   ]
  },
  {
   "cell_type": "markdown",
   "metadata": {},
   "source": [
    "Espressione di Funzione"
   ]
  },
  {
   "cell_type": "code",
   "execution_count": null,
   "metadata": {},
   "outputs": [],
   "source": [
    "const nomeFunzione = function(parametro1, parametro2) {\n",
    "    //corpo della funzione\n",
    "    return valoreDiRitorno;\n",
    " }\n",
    " "
   ]
  },
  {
   "cell_type": "markdown",
   "metadata": {},
   "source": [
    "Esempio"
   ]
  },
  {
   "cell_type": "code",
   "execution_count": null,
   "metadata": {},
   "outputs": [],
   "source": [
    "const add1 = (a:number, b:number) => {\n",
    "    add1 (1, 2); //Output: 3\n",
    " }\n",
    " "
   ]
  },
  {
   "cell_type": "markdown",
   "metadata": {},
   "source": [
    "Arrow Function\n"
   ]
  },
  {
   "cell_type": "code",
   "execution_count": null,
   "metadata": {},
   "outputs": [],
   "source": [
    "const nomeFunzione = (parametro1, parametro2) => {\n",
    "    //corpo della funzione\n",
    "    return valoreDiRitorno;\n",
    " }\n",
    " "
   ]
  },
  {
   "cell_type": "markdown",
   "metadata": {},
   "source": [
    "Esempio"
   ]
  },
  {
   "cell_type": "code",
   "execution_count": null,
   "metadata": {},
   "outputs": [],
   "source": [
    "const add2 = (a:number, b:number): number => a + b;\n",
    "add2 (1,2); //Output: 3\n"
   ]
  },
  {
   "cell_type": "markdown",
   "metadata": {},
   "source": [
    "Closure"
   ]
  },
  {
   "cell_type": "code",
   "execution_count": null,
   "metadata": {},
   "outputs": [],
   "source": [
    "function creaContatore(){\n",
    "    let contatore = 0;\n",
    "    return function(){\n",
    "       return contatore++;\n",
    "    }\n",
    " }\n",
    " "
   ]
  }
 ],
 "metadata": {
  "kernelspec": {
   "display_name": "Deno",
   "language": "typescript",
   "name": "deno"
  },
  "language_info": {
   "file_extension": ".ts",
   "mimetype": "text/x.typescript",
   "name": "typescript",
   "nb_converter": "script",
   "pygments_lexer": "typescript",
   "version": "5.3.3"
  }
 },
 "nbformat": 4,
 "nbformat_minor": 4
}
